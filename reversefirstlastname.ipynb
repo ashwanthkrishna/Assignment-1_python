{
 "cells": [
  {
   "cell_type": "code",
   "execution_count": 1,
   "metadata": {},
   "outputs": [
    {
     "name": "stdout",
     "output_type": "stream",
     "text": [
      "the user first name is ashwanth\n",
      "the user last name is krishna\n",
      "htnawhsa anhsirk\n"
     ]
    }
   ],
   "source": [
    "a=input(\"the user first name is \")\n",
    "b=input(\"the user last name is \")\n",
    "print(a[::-1]+\" \"+b[::-1])"
   ]
  },
  {
   "cell_type": "code",
   "execution_count": 2,
   "metadata": {},
   "outputs": [
    {
     "name": "stdout",
     "output_type": "stream",
     "text": [
      "the user first name is ashwanth\n",
      "the user last name is krishna\n",
      "krishna ashwanth\n"
     ]
    }
   ],
   "source": [
    "a=input(\"the user first name is \")\n",
    "b=input(\"the user last name is \")\n",
    "print(b+\" \"+a)"
   ]
  },
  {
   "cell_type": "code",
   "execution_count": null,
   "metadata": {},
   "outputs": [],
   "source": []
  }
 ],
 "metadata": {
  "kernelspec": {
   "display_name": "Python 3",
   "language": "python",
   "name": "python3"
  },
  "language_info": {
   "codemirror_mode": {
    "name": "ipython",
    "version": 3
   },
   "file_extension": ".py",
   "mimetype": "text/x-python",
   "name": "python",
   "nbconvert_exporter": "python",
   "pygments_lexer": "ipython3",
   "version": "3.7.6"
  }
 },
 "nbformat": 4,
 "nbformat_minor": 4
}
